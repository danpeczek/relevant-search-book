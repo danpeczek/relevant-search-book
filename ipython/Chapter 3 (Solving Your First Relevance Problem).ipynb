{
 "cells": [
  {
   "cell_type": "markdown",
   "id": "8aa4d0d4",
   "metadata": {},
   "source": [
    "# Boilerplate Setup"
   ]
  },
  {
   "cell_type": "code",
   "execution_count": 22,
   "id": "3b3ad0e6",
   "metadata": {
    "collapsed": false,
    "jupyter": {
     "outputs_hidden": false
    },
    "tags": []
   },
   "outputs": [],
   "source": [
    "import requests\n",
    "import json\n",
    "import logging\n",
    "import numpy as np\n",
    "from itertools import islice\n",
    "from elasticsearch import Elasticsearch\n",
    "\n",
    "# Optional, enable client-side caching for TMDB\n",
    "# Requires: https://httpcache.readthedocs.org/en/latest/\n",
    "#from httpcache import CachingHTTPAdapter\n",
    "#tmdb_api.mount('https://', CachingHTTPAdapter())\n",
    "#tmdb_api.mount('http://', CachingHTTPAdapter())\n",
    "\n",
    "# Some utilities for flattening the explain into something a bit more\n",
    "# readable. Pass Explain JSON, get something readable (ironically this is what Solr's default output is :-p)\n",
    "def flatten(l):\n",
    "    [item for sublist in l for item in sublist]\n",
    "\n",
    "def simplerExplain(explainJson, depth=0):\n",
    "    result = \" \" * (depth * 2) + \"%s, %s\\n\" % (explainJson['value'], explainJson['description'])\n",
    "    #print json.dumps(explainJson, indent=True)\n",
    "    if 'details' in explainJson:\n",
    "        for detail in explainJson['details']:\n",
    "            result += simplerExplain(detail, depth=depth+1)\n",
    "    return result"
   ]
  },
  {
   "cell_type": "markdown",
   "id": "e152b59a",
   "metadata": {},
   "source": [
    "# 3.2.2 Indexing TMDB Movies"
   ]
  },
  {
   "cell_type": "code",
   "execution_count": 2,
   "id": "c1e831d1",
   "metadata": {
    "collapsed": false,
    "jupyter": {
     "outputs_hidden": false
    },
    "tags": []
   },
   "outputs": [],
   "source": [
    "def extract():\n",
    "    f = open('tmdb.json')\n",
    "    if f:\n",
    "         return json.loads(f.read());        \n",
    "    return {}"
   ]
  },
  {
   "cell_type": "code",
   "execution_count": 20,
   "id": "6e16d4e5",
   "metadata": {
    "collapsed": false,
    "jupyter": {
     "outputs_hidden": false
    },
    "tags": []
   },
   "outputs": [],
   "source": [
    "def reindex(analysisSettings={}, mappingSettings={}, movieDict={}):\n",
    "    settings = { #A\n",
    "        \"settings\": {\n",
    "            \"number_of_shards\": 1, #B\n",
    "            \"index\": {\n",
    "                \"analysis\" : analysisSettings, #C\n",
    "            }}}\n",
    "\n",
    "    if mappingSettings:\n",
    "        settings['mappings'] = mappingSettings #C\n",
    "\n",
    "    resp = requests.delete(\"https://localhost:9200/tmdb\") #D\n",
    "    resp = requests.put(\"https://localhost:9200/tmdb\", \n",
    "                        data=json.dumps(settings))\n",
    "\n",
    "    bulkMovies = \"\"\n",
    "    logging.info(\"building...\")\n",
    "    for id, movie in movieDict.iteritems(): \n",
    "        addCmd = {\"index\": {\"_index\": \"tmdb\", #E\n",
    "                            \"_type\": \"movie\",\n",
    "                            \"_id\": movie[\"id\"]}}\n",
    "        bulkMovies += json.dumps(addCmd) + \"\\n\" + json.dumps(movie) + \"\\n\"\n",
    "\n",
    "    logging.info(\"indexing...\")\n",
    "    resp = requests.post(\"https://localhost:9200/_bulk\", data=bulkMovies)\n"
   ]
  },
  {
   "cell_type": "code",
   "execution_count": 15,
   "id": "b15dd64b",
   "metadata": {
    "collapsed": false,
    "jupyter": {
     "outputs_hidden": false
    },
    "tags": []
   },
   "outputs": [],
   "source": [
    "movieDict = extract()"
   ]
  },
  {
   "cell_type": "code",
   "execution_count": 16,
   "id": "05a6711e-8fd7-4241-b834-4ba9f562414e",
   "metadata": {
    "tags": []
   },
   "outputs": [
    {
     "name": "stdout",
     "output_type": "stream",
     "text": [
      "[('93837', {'poster_path': '/mfMndRWFbzXbTx0g3rHUXFAxyOh.jpg', 'production_countries': [{'iso_3166_1': 'US', 'name': 'United States of America'}], 'revenue': 0, 'overview': 'When the FBI hires her to go undercover at a college sorority, Molly Morris (Miley Cyrus) must transform herself from a tough, streetwise private investigator to a refined, sophisticated university girl to help protect the daughter of a one-time Mobster. With several suspects on her list, Molly unexpectedly discovers that not everyone is who they appear to be, including herself.', 'video': False, 'id': 93837, 'genres': [{'id': 28, 'name': 'Action'}, {'id': 35, 'name': 'Comedy'}], 'title': 'So Undercover', 'tagline': \"Meet the FBI's new secret weapon\", 'vote_count': 55, 'homepage': '', 'belongs_to_collection': None, 'original_language': 'en', 'status': 'Released', 'spoken_languages': [{'iso_639_1': 'en', 'name': 'English'}], 'imdb_id': 'tt1766094', 'adult': False, 'backdrop_path': '/o4Tt60z94Hbgk8adeZG9WE4S2im.jpg', 'production_companies': [{'name': 'Exclusive Media Group', 'id': 11448}], 'release_date': '2012-01-01', 'popularity': 0.345124796829192, 'original_title': 'So Undercover', 'budget': 0, 'cast': [{'name': 'Miley Cyrus', 'character': 'Molly', 'id': 76594, 'credit_id': '52fe49419251416c750c21c9', 'cast_id': 10, 'profile_path': '/4cWl6nJTQMexqZFFDfaJucwhqGY.jpg', 'order': 0}, {'name': 'Joshua Bowman', 'character': 'Nicholas', 'id': 139835, 'credit_id': '52fe49419251416c750c21cd', 'cast_id': 11, 'profile_path': '/FOSRcKOJqCZzpFhBCzlEphp5F.jpg', 'order': 1}, {'name': 'Eloise Mumford', 'character': 'Sasha', 'id': 222130, 'credit_id': '52fe49419251416c750c21d1', 'cast_id': 12, 'profile_path': '/6yT9OjHcnG55iGjq7XFvd2qpYT2.jpg', 'order': 2}, {'name': 'Jeremy Piven', 'character': 'Armon', 'id': 12799, 'credit_id': '52fe49419251416c750c21d5', 'cast_id': 13, 'profile_path': '/qtho4ZUcValnVvscTGgyWfUr4VP.jpg', 'order': 3}, {'name': 'Autumn Reeser', 'character': 'Bizzy', 'id': 74607, 'credit_id': '52fe49419251416c750c21d9', 'cast_id': 14, 'profile_path': '/vZlZQkQzQ0PSCnQT77vqEFnYsoO.jpg', 'order': 4}, {'name': 'Alexis Knapp', 'character': 'Taylor', 'id': 999790, 'credit_id': '52fe49419251416c750c21dd', 'cast_id': 15, 'profile_path': '/jhQeoRHhCig8dtJxthKChQmAERQ.jpg', 'order': 5}, {'name': 'Matthew Settle', 'character': 'Professor Talloway', 'id': 33286, 'credit_id': '52fe49419251416c750c21e1', 'cast_id': 16, 'profile_path': '/neODd3vTVEb7TXOWEZC44ZZu1yk.jpg', 'order': 6}, {'name': 'Megan Park', 'character': 'Cotton', 'id': 55615, 'credit_id': '52fe49419251416c750c21e5', 'cast_id': 17, 'profile_path': '/AjIaQKbjMgYcJxalCBM4MGREss0.jpg', 'order': 7}, {'name': \"Mike O'Malley\", 'character': 'Sam', 'id': 87192, 'credit_id': '52fe49419251416c750c21e9', 'cast_id': 18, 'profile_path': '/9VwiKnQySJN7buvCg53v4NB5Tj7.jpg', 'order': 8}, {'name': 'Kelly Osbourne', 'character': 'Becky', 'id': 178425, 'credit_id': '52fe49419251416c750c21ed', 'cast_id': 19, 'profile_path': '/ub2UobCm9Fe4PYWgerPQkdXMSQA.jpg', 'order': 9}, {'name': 'Lauren McKnight', 'character': 'Alex', 'id': 560298, 'credit_id': '52fe49419251416c750c21f1', 'cast_id': 20, 'profile_path': None, 'order': 10}], 'directors': [{'name': 'Tom Vaughan', 'department': 'Directing', 'job': 'Director', 'credit_id': '52fe49419251416c750c2195', 'profile_path': '/opDMR3lConDBNSiVmqt4h6TMFBF.jpg', 'id': 56717}], 'vote_average': 5.9, 'runtime': 94}), ('8193', {'poster_path': '/s0yuDUKiAJNl5XkO9OT4aFwnA3I.jpg', 'production_countries': [{'iso_3166_1': 'US', 'name': 'United States of America'}], 'revenue': 46118097, 'overview': 'A listless and alienated teenager decides to help his new friend win the class presidency in their small western high school, while he must deal with his bizarre family life back home.', 'video': False, 'id': 8193, 'genres': [{'id': 35, 'name': 'Comedy'}], 'title': 'Napoleon Dynamite', 'tagline': \"He's out to prove he's got nothing to prove.\", 'vote_count': 134, 'homepage': '', 'belongs_to_collection': None, 'original_language': 'en', 'status': 'Released', 'spoken_languages': [{'iso_639_1': 'en', 'name': 'English'}], 'imdb_id': 'tt0374900', 'adult': False, 'backdrop_path': '/Ac1DJFbYXWANxO59l1uabUcYQT0.jpg', 'production_companies': [{'name': 'Access Films', 'id': 2339}, {'name': 'Napoleon Pictures Limited', 'id': 2340}, {'name': 'Carnival Films', 'id': 6196}], 'release_date': '2004-06-11', 'popularity': 1.05771531941715, 'original_title': 'Napoleon Dynamite', 'budget': 400000, 'cast': [{'name': 'Jon Heder', 'character': 'Napoleon Dynamite', 'id': 53926, 'credit_id': '52fe4494c3a36847f809e21d', 'cast_id': 2, 'profile_path': '/mLcCixjexwM7oc6OqwTJxf52L5C.jpg', 'order': 0}, {'name': 'Aaron Ruell', 'character': 'Kip Dynamite', 'id': 53927, 'credit_id': '52fe4494c3a36847f809e221', 'cast_id': 3, 'profile_path': '/8YM46p3eUBOSqkFRkRu7Tp0ZooW.jpg', 'order': 1}, {'name': 'Jon Gries', 'character': 'Uncle Rico', 'id': 9629, 'credit_id': '52fe4494c3a36847f809e225', 'cast_id': 4, 'profile_path': '/yNhP4IZCMN10duIYKdHUFt8mJCU.jpg', 'order': 2}, {'name': 'Efren Ramirez', 'character': 'Pedro Sanchez', 'id': 20190, 'credit_id': '52fe4494c3a36847f809e229', 'cast_id': 5, 'profile_path': '/6VqjTlLm469PDyNbATyqyuSvIw0.jpg', 'order': 3}, {'name': 'Shondrella Avery', 'character': 'LaFawnduh', 'id': 53928, 'credit_id': '52fe4494c3a36847f809e22d', 'cast_id': 6, 'profile_path': '/tTRyVWKBCmZR0Eq3XQHMG682kUJ.jpg', 'order': 4}, {'name': 'Haylie Duff', 'character': 'Summer', 'id': 53929, 'credit_id': '52fe4494c3a36847f809e231', 'cast_id': 7, 'profile_path': '/6ZNv9nQKD50nuED7MTKECzdx48G.jpg', 'order': 5}, {'name': 'Tina Majorino', 'character': 'Deb', 'id': 53930, 'credit_id': '52fe4494c3a36847f809e235', 'cast_id': 8, 'profile_path': '/kGzCUaPddOm84cRlExLKOvZEoqP.jpg', 'order': 6}, {'name': 'Diedrich Bader', 'character': 'Rex', 'id': 5727, 'credit_id': '52fe4494c3a36847f809e239', 'cast_id': 9, 'profile_path': '/2j2WoLG4eJLu9c6jewrx8ReDnBe.jpg', 'order': 7}, {'name': 'Sandy Martin', 'character': 'Grandma', 'id': 53931, 'credit_id': '52fe4494c3a36847f809e23d', 'cast_id': 10, 'profile_path': '/WfdT2V1DxUvoBlgUzeCVq340IH.jpg', 'order': 8}, {'name': 'Trevor Snarr', 'character': 'Don', 'id': 53932, 'credit_id': '52fe4494c3a36847f809e241', 'cast_id': 11, 'profile_path': None, 'order': 9}, {'name': 'Emily Dunn', 'character': 'Trisha', 'id': 53933, 'credit_id': '52fe4494c3a36847f809e245', 'cast_id': 12, 'profile_path': None, 'order': 10}, {'name': 'Ellen Dubin', 'character': 'Ilene', 'id': 53934, 'credit_id': '52fe4494c3a36847f809e249', 'cast_id': 13, 'profile_path': '/nyOs1itoxJxF2PN6fSQy00rCT0f.jpg', 'order': 11}], 'directors': [{'name': 'Jared Hess', 'department': 'Directing', 'job': 'Director', 'credit_id': '52fe4494c3a36847f809e219', 'profile_path': '/sQsIDQEpPl1ZAUcK6nqRSj4RSZ9.jpg', 'id': 53925}], 'vote_average': 6.5, 'runtime': 82})]\n"
     ]
    }
   ],
   "source": [
    "print(list(islice(movieDict.items(), 2)))"
   ]
  },
  {
   "cell_type": "code",
   "execution_count": 23,
   "id": "7ae0ef35",
   "metadata": {
    "collapsed": false,
    "jupyter": {
     "outputs_hidden": false
    },
    "tags": []
   },
   "outputs": [],
   "source": [
    "es = Elasticsearch(\"http://localhost:9200/\")\n"
   ]
  },
  {
   "cell_type": "markdown",
   "id": "970f3833",
   "metadata": {},
   "source": [
    "# 3.2.3 Basic Searching"
   ]
  },
  {
   "cell_type": "code",
   "execution_count": null,
   "id": "7a50b083",
   "metadata": {
    "collapsed": false,
    "jupyter": {
     "outputs_hidden": false
    }
   },
   "outputs": [],
   "source": [
    "def search(query):\n",
    "    url = 'http://localhost:9200/tmdb/movie/_search'\n",
    "    httpResp = requests.get(url, data=json.dumps(query)) #A\n",
    "    searchHits = json.loads(httpResp.text)['hits']\n",
    "    print \"Num\\tRelevance Score\\t\\tMovie Title\\t\\tOverview\" #B\n",
    "    for idx, hit in enumerate(searchHits['hits']):\n",
    "            print \"%s\\t%s\\t\\t%s\" % (idx + 1, hit['_score'], hit['_source']['title'])\n"
   ]
  },
  {
   "cell_type": "code",
   "execution_count": null,
   "id": "2028662b",
   "metadata": {
    "collapsed": false,
    "jupyter": {
     "outputs_hidden": false
    }
   },
   "outputs": [],
   "source": [
    "usersSearch = 'basketball with cartoon aliens'\n",
    "query = {\n",
    "    'query': {\n",
    "        'multi_match': { \n",
    "            'query': usersSearch, #A\n",
    "            'fields': ['title^10', 'overview'], #B\n",
    "        },\n",
    "    },\n",
    "    'size': '100'\n",
    "}\n",
    "search(query)\n"
   ]
  },
  {
   "cell_type": "markdown",
   "id": "e4b83745",
   "metadata": {},
   "source": [
    "# 2.3.1 Query Validation API"
   ]
  },
  {
   "cell_type": "code",
   "execution_count": null,
   "id": "60a029a1",
   "metadata": {
    "collapsed": false,
    "jupyter": {
     "outputs_hidden": false
    }
   },
   "outputs": [],
   "source": [
    "query = {\n",
    "   'query': {\n",
    "        'multi_match': { \n",
    "            'query': usersSearch,  #User's query\n",
    "            'fields': ['title^10', 'overview']\n",
    "        }\n",
    "    }\n",
    "}\n",
    "httpResp = requests.get('http://localhost:9200' + \n",
    "\t\t\t    '/tmdb/movie/_validate/query?explain',\n",
    "\t\t\t     data=json.dumps(query))\n",
    "print json.loads(httpResp.text)"
   ]
  },
  {
   "cell_type": "markdown",
   "id": "9f3ffddc",
   "metadata": {},
   "source": [
    "# 2.3.3 Debugging Analysis"
   ]
  },
  {
   "cell_type": "code",
   "execution_count": null,
   "id": "e16a88c1",
   "metadata": {
    "collapsed": false,
    "jupyter": {
     "outputs_hidden": false
    }
   },
   "outputs": [],
   "source": [
    "# Inner Layer of the Onion -- Why did the search engine consider these movies matches? Two sides to this\n",
    "# (1) What tokens are placed in the search engine?\n",
    "# (2) What did the search engine attempt to match exactly?\n",
    "\n",
    "# Explain of what's happening when we construct these terms\n",
    "\n",
    "#resp = requests.get(elasticSearchUrl + \"/tmdb/_mapping/movie/field/title?format=yaml'\n",
    "resp = requests.get('http://localhost:9200/tmdb/_analyze?field=title&format=yaml', \n",
    "                    data=\"Fire with Fire\")\n",
    "print resp.text"
   ]
  },
  {
   "cell_type": "markdown",
   "id": "d6a254d2",
   "metadata": {},
   "source": [
    "# 2.3.5 -- Solving The Matching Problem"
   ]
  },
  {
   "cell_type": "code",
   "execution_count": null,
   "id": "b53d1ea7",
   "metadata": {
    "collapsed": false,
    "jupyter": {
     "outputs_hidden": false
    }
   },
   "outputs": [],
   "source": [
    "mappingSettings = {\n",
    "       'movie': {\n",
    "            'properties': {\n",
    "               'title': { #A\n",
    "                   'type': 'string',\n",
    "                   'analyzer': 'english'\n",
    "               },\n",
    "            'overview': {\n",
    "                   'type': 'string',\n",
    "                   'analyzer': 'english'\n",
    "               }\n",
    "            }\n",
    "       }\n",
    "}\n",
    "reindex(mappingSettings=mappingSettings, movieDict=movieDict) \n"
   ]
  },
  {
   "cell_type": "code",
   "execution_count": null,
   "id": "42a42f21",
   "metadata": {
    "collapsed": false,
    "jupyter": {
     "outputs_hidden": false
    }
   },
   "outputs": [],
   "source": [
    "resp = requests.get('http://localhost:9200/tmdb/_analyze?field=title&format=yaml', \n",
    "                    data=\"Fire with Fire\")\n",
    "print resp.text"
   ]
  },
  {
   "cell_type": "markdown",
   "id": "904442f2",
   "metadata": {},
   "source": [
    "## Repeat the search"
   ]
  },
  {
   "cell_type": "code",
   "execution_count": null,
   "id": "bf5545e4",
   "metadata": {
    "collapsed": false,
    "jupyter": {
     "outputs_hidden": false
    }
   },
   "outputs": [],
   "source": [
    "usersSearch = 'basketball with cartoon aliens'\n",
    "query = {\n",
    "    'query': {\n",
    "        'multi_match': { \n",
    "            'query': usersSearch, #A\n",
    "            'fields': ['title^10', 'overview'], #B\n",
    "        },\n",
    "    },\n",
    "    'size': '100'\n",
    "}\n",
    "search(query)\n"
   ]
  },
  {
   "cell_type": "markdown",
   "id": "a905d965",
   "metadata": {},
   "source": [
    "# 2.4.1\tDecomposing Relevance Score With Lucene’s Explain"
   ]
  },
  {
   "cell_type": "code",
   "execution_count": null,
   "id": "07ad2b6b",
   "metadata": {
    "collapsed": false,
    "jupyter": {
     "outputs_hidden": false
    }
   },
   "outputs": [],
   "source": [
    "query['explain'] = True\n",
    "httpResp = requests.get('http://localhost:9200/tmdb/movie/_search', data=json.dumps(query))\n",
    "jsonResp = json.loads(httpResp.text)\n",
    "print json.dumps(jsonResp['hits']['hits'][0]['_explanation'], indent=True)\n",
    "print \"Explain for %s\" % jsonResp['hits']['hits'][0]['_source']['title']\n",
    "print simplerExplain(jsonResp['hits']['hits'][0]['_explanation'])\n",
    "print \"Explain for %s\" % jsonResp['hits']['hits'][1]['_source']['title']\n",
    "print simplerExplain(jsonResp['hits']['hits'][1]['_explanation'])\n",
    "print \"Explain for %s\" % jsonResp['hits']['hits'][2]['_source']['title']\n",
    "print simplerExplain(jsonResp['hits']['hits'][2]['_explanation'])\n",
    "print \"Explain for %s\" % jsonResp['hits']['hits'][3]['_source']['title']\n",
    "print simplerExplain(jsonResp['hits']['hits'][3]['_explanation'])\n",
    "print \"Explain for %s\" % jsonResp['hits']['hits'][10]['_source']['title']\n",
    "print simplerExplain(jsonResp['hits']['hits'][10]['_explanation'])\n"
   ]
  },
  {
   "cell_type": "markdown",
   "id": "b9375079",
   "metadata": {},
   "source": [
    "# 3.4.4\tFixing Space Jam vs Alien Ranking"
   ]
  },
  {
   "cell_type": "code",
   "execution_count": null,
   "id": "a1f09e4c",
   "metadata": {
    "collapsed": false,
    "jupyter": {
     "outputs_hidden": false
    },
    "tags": []
   },
   "outputs": [],
   "source": [
    "query = {\n",
    "    'query': {\n",
    "        'multi_match': { \n",
    "            'query': usersSearch,  #User's query\n",
    "            'fields': ['title^0.1', 'overview'],\n",
    "        }\n",
    "    },\n",
    "    'explain': True\n",
    "}\n",
    "search(query)\n"
   ]
  }
 ],
 "metadata": {
  "kernelspec": {
   "display_name": "Python 3 (ipykernel)",
   "language": "python",
   "name": "python3"
  },
  "language_info": {
   "codemirror_mode": {
    "name": "ipython",
    "version": 3
   },
   "file_extension": ".py",
   "mimetype": "text/x-python",
   "name": "python",
   "nbconvert_exporter": "python",
   "pygments_lexer": "ipython3",
   "version": "3.11.2"
  }
 },
 "nbformat": 4,
 "nbformat_minor": 5
}
